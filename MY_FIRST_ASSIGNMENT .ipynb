{
 "cells": [
  {
   "cell_type": "code",
   "execution_count": 1,
   "metadata": {},
   "outputs": [
    {
     "name": "stdout",
     "output_type": "stream",
     "text": [
      "Enter numbers: 2 6 0 5 8 5 1 3 6 2\n",
      "{'0', '6', '8', '2', '5', '1', '3'}\n"
     ]
    }
   ],
   "source": [
    "#1\n",
    "str = input(\"Enter numbers: \")\n",
    "lst = set(str.split())\n",
    "print(lst)"
   ]
  },
  {
   "cell_type": "code",
   "execution_count": 2,
   "metadata": {},
   "outputs": [
    {
     "name": "stdout",
     "output_type": "stream",
     "text": [
      "5\n",
      "75\n",
      "5\n",
      "25\n"
     ]
    }
   ],
   "source": [
    "#2\n",
    "t = (5, 10, 15, 20, 25)\n",
    "print(len(t))\n",
    "print(sum(t))\n",
    "print(min(t))\n",
    "print(max(t))"
   ]
  },
  {
   "cell_type": "code",
   "execution_count": 7,
   "metadata": {},
   "outputs": [
    {
     "name": "stdout",
     "output_type": "stream",
     "text": [
      "num:13\n",
      "i:1\n",
      "15\n"
     ]
    }
   ],
   "source": [
    "#3\n",
    "num = int(input(\"num:\"))\n",
    "i = int(input('i:'))\n",
    "mag_num = 1 << i\n",
    "org_num = mag_num | num\n",
    "print(org_num)"
   ]
  },
  {
   "cell_type": "code",
   "execution_count": 8,
   "metadata": {},
   "outputs": [
    {
     "name": "stdout",
     "output_type": "stream",
     "text": [
      "Enter a number: 7\n",
      "1\n"
     ]
    }
   ],
   "source": [
    "#4\n",
    "num = int(input(\"Enter a number: \"))\n",
    "print(num % 2)"
   ]
  },
  {
   "cell_type": "code",
   "execution_count": 2,
   "metadata": {},
   "outputs": [
    {
     "name": "stdout",
     "output_type": "stream",
     "text": [
      "[1, 2, 3, 4, 5]\n",
      "[6, 7, 8, 9, 10]\n",
      "[1, 2, 3, 4, 5, 6, 7, 8, 9, 10]\n"
     ]
    }
   ],
   "source": [
    "#5\n",
    "list_1 = [1,2,3,4,5]\n",
    "print(list_1)\n",
    "list_2 = [6,7,8,9,10]\n",
    "print(list_2)\n",
    "print(sorted(list_1+list_2))"
   ]
  },
  {
   "cell_type": "code",
   "execution_count": 26,
   "metadata": {},
   "outputs": [
    {
     "ename": "SyntaxError",
     "evalue": "invalid syntax (<ipython-input-26-0ba8179bf628>, line 4)",
     "output_type": "error",
     "traceback": [
      "\u001b[1;36m  File \u001b[1;32m\"<ipython-input-26-0ba8179bf628>\"\u001b[1;36m, line \u001b[1;32m4\u001b[0m\n\u001b[1;33m    tuple1=(('berlin',70),('oslo',0),('moscow',50),('nairobi',100))\u001b[0m\n\u001b[1;37m         ^\u001b[0m\n\u001b[1;31mSyntaxError\u001b[0m\u001b[1;31m:\u001b[0m invalid syntax\n"
     ]
    }
   ],
   "source": [
    "#6\n",
    "students={ 'berlin':70,'oslo':0,'moscow':50,'nairobi':100}\n",
    "print(\"input=\"+str(students))\n",
    "tuple1=(('berlin',70),('oslo',0),('moscow',50),('nairobi',100))\n",
    "y=dict(sorted(tuple1,key=lambda x:x[1]))\n",
    "print(\"output=\"+str(y))"
   ]
  },
  {
   "cell_type": "code",
   "execution_count": null,
   "metadata": {},
   "outputs": [],
   "source": []
  }
 ],
 "metadata": {
  "kernelspec": {
   "display_name": "Python 3",
   "language": "python",
   "name": "python3"
  },
  "language_info": {
   "codemirror_mode": {
    "name": "ipython",
    "version": 3
   },
   "file_extension": ".py",
   "mimetype": "text/x-python",
   "name": "python",
   "nbconvert_exporter": "python",
   "pygments_lexer": "ipython3",
   "version": "3.7.6"
  }
 },
 "nbformat": 4,
 "nbformat_minor": 4
}
